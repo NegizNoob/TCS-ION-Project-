{
 "cells": [
  {
   "cell_type": "markdown",
   "metadata": {
    "colab_type": "text",
    "id": "view-in-github"
   },
   "source": [
    "<a href=\"https://colab.research.google.com/github/Likhitha0510/TCS-iON-RIO-45/blob/main/Main_code.ipynb\" target=\"_parent\"><img src=\"https://colab.research.google.com/assets/colab-badge.svg\" alt=\"Open In Colab\"/></a>"
   ]
  },
  {
   "cell_type": "markdown",
   "metadata": {},
   "source": [
    "## Importing Libraries"
   ]
  },
  {
   "cell_type": "code",
   "execution_count": 23,
   "metadata": {
    "colab": {
     "base_uri": "https://localhost:8080/",
     "height": 1000
    },
    "id": "FewEBEILzjwr",
    "outputId": "05515eb3-2f04-4c34-caf3-67214bc0a460"
   },
   "outputs": [],
   "source": [
    "# Written by : Ritik Bhandari\n",
    "# Contact : bhandariritik08@gmail.com\n",
    "# RIO-45: Automate detection of different emotions from textual comments and feedback \n",
    "\n",
    "import tensorflow as tf\n",
    "from tensorflow import keras\n",
    "import tensorflow_datasets as tfds\n",
    "tfds.disable_progress_bar()\n",
    "import numpy as np"
   ]
  },
  {
   "cell_type": "markdown",
   "metadata": {},
   "source": [
    "## Importing Dataset"
   ]
  },
  {
   "cell_type": "code",
   "execution_count": 24,
   "metadata": {},
   "outputs": [
    {
     "name": "stderr",
     "output_type": "stream",
     "text": [
      "WARNING:absl:TFDS datasets with text encoding are deprecated and will be removed in a future version. Instead, you should use the plain text version and tokenize the text using `tensorflow_text` (See: https://www.tensorflow.org/tutorials/tensorflow_text/intro#tfdata_example)\n"
     ]
    }
   ],
   "source": [
    "# Loading IMDB data set, we will be using preprocessed dataset\n",
    "(train_data, test_data), info = tfds.load('imdb_reviews/subwords8k',split = (tfds.Split.TRAIN, tfds.Split.TEST),as_supervised = True,with_info = True)"
   ]
  },
  {
   "cell_type": "markdown",
   "metadata": {},
   "source": [
    "## Feature Scaling"
   ]
  },
  {
   "cell_type": "code",
   "execution_count": 25,
   "metadata": {},
   "outputs": [
    {
     "name": "stdout",
     "output_type": "stream",
     "text": [
      "Vocabulary size: 8185\n",
      "Encoded text: [  62   18   41  604  927   65    3  644 7968   21   35]\n",
      "Label: 0\n",
      "Encoded text: [  12   31   93  867    7 1256 6585 7961  421  365    2]\n",
      "Label: 0\n"
     ]
    }
   ],
   "source": [
    "# Modeling, Text encoder can convert any string into integers.\n",
    "encoder = info.features['text'].encoder\n",
    "print ('Vocabulary size: {}'.format(encoder.vocab_size))\n",
    "for train_example, train_label in train_data.take(2):\n",
    "  print('Encoded text:', train_example[:11].numpy())\n",
    "  print('Label:', train_label.numpy())\n"
   ]
  },
  {
   "cell_type": "code",
   "execution_count": 26,
   "metadata": {},
   "outputs": [],
   "source": [
    "#Prediction Functions\n",
    "\n",
    "BUFFER_SIZE = 1000\n",
    "\n",
    "train_batches = (train_data.shuffle(BUFFER_SIZE).padded_batch(38))\n",
    "\n",
    "test_batches = (test_data.padded_batch(38))"
   ]
  },
  {
   "cell_type": "code",
   "execution_count": 27,
   "metadata": {},
   "outputs": [
    {
     "name": "stdout",
     "output_type": "stream",
     "text": [
      "Model: \"sequential_1\"\n",
      "_________________________________________________________________\n",
      " Layer (type)                Output Shape              Param #   \n",
      "=================================================================\n",
      " embedding_1 (Embedding)     (None, None, 20)          163700    \n",
      "                                                                 \n",
      " global_average_pooling1d_1   (None, 20)               0         \n",
      " (GlobalAveragePooling1D)                                        \n",
      "                                                                 \n",
      " dense_1 (Dense)             (None, 1)                 21        \n",
      "                                                                 \n",
      "=================================================================\n",
      "Total params: 163,721\n",
      "Trainable params: 163,721\n",
      "Non-trainable params: 0\n",
      "_________________________________________________________________\n"
     ]
    }
   ],
   "source": [
    "\n",
    "# Model definition\n",
    "\n",
    "model = keras.Sequential([keras.layers.Embedding(encoder.vocab_size, 20),keras.layers.GlobalAveragePooling1D(),keras.layers.Dense(1)])\n",
    "\n",
    "model.summary()"
   ]
  },
  {
   "cell_type": "markdown",
   "metadata": {},
   "source": [
    "## Compiling Model and Training Model"
   ]
  },
  {
   "cell_type": "code",
   "execution_count": 28,
   "metadata": {},
   "outputs": [
    {
     "name": "stdout",
     "output_type": "stream",
     "text": [
      "Epoch 1/15\n",
      "658/658 [==============================] - 6s 8ms/step - loss: 0.6833 - accuracy: 0.5002 - val_loss: 0.6655 - val_accuracy: 0.4947\n",
      "Epoch 2/15\n",
      "658/658 [==============================] - 5s 8ms/step - loss: 0.6268 - accuracy: 0.5450 - val_loss: 0.5930 - val_accuracy: 0.5858\n",
      "Epoch 3/15\n",
      "658/658 [==============================] - 5s 8ms/step - loss: 0.5503 - accuracy: 0.6519 - val_loss: 0.5258 - val_accuracy: 0.7216\n",
      "Epoch 4/15\n",
      "658/658 [==============================] - 5s 8ms/step - loss: 0.4824 - accuracy: 0.7416 - val_loss: 0.4730 - val_accuracy: 0.7963\n",
      "Epoch 5/15\n",
      "658/658 [==============================] - 5s 8ms/step - loss: 0.4291 - accuracy: 0.7963 - val_loss: 0.4317 - val_accuracy: 0.8153\n",
      "Epoch 6/15\n",
      "658/658 [==============================] - 5s 8ms/step - loss: 0.3877 - accuracy: 0.8289 - val_loss: 0.4010 - val_accuracy: 0.8189\n",
      "Epoch 7/15\n",
      "658/658 [==============================] - 5s 8ms/step - loss: 0.3542 - accuracy: 0.8499 - val_loss: 0.3795 - val_accuracy: 0.8474\n",
      "Epoch 8/15\n",
      "658/658 [==============================] - 6s 9ms/step - loss: 0.3299 - accuracy: 0.8646 - val_loss: 0.3634 - val_accuracy: 0.8468\n",
      "Epoch 9/15\n",
      "658/658 [==============================] - 5s 8ms/step - loss: 0.3074 - accuracy: 0.8762 - val_loss: 0.3521 - val_accuracy: 0.8484\n",
      "Epoch 10/15\n",
      "658/658 [==============================] - 5s 8ms/step - loss: 0.2911 - accuracy: 0.8836 - val_loss: 0.3430 - val_accuracy: 0.8653\n",
      "Epoch 11/15\n",
      "658/658 [==============================] - 5s 8ms/step - loss: 0.2767 - accuracy: 0.8921 - val_loss: 0.3363 - val_accuracy: 0.8626\n",
      "Epoch 12/15\n",
      "658/658 [==============================] - 5s 8ms/step - loss: 0.2623 - accuracy: 0.8972 - val_loss: 0.3331 - val_accuracy: 0.8784\n",
      "Epoch 13/15\n",
      "658/658 [==============================] - 5s 8ms/step - loss: 0.2528 - accuracy: 0.9019 - val_loss: 0.3272 - val_accuracy: 0.8679\n",
      "Epoch 14/15\n",
      "658/658 [==============================] - 5s 8ms/step - loss: 0.2403 - accuracy: 0.9083 - val_loss: 0.3260 - val_accuracy: 0.8784\n",
      "Epoch 15/15\n",
      "658/658 [==============================] - 6s 9ms/step - loss: 0.2309 - accuracy: 0.9112 - val_loss: 0.3229 - val_accuracy: 0.8711\n"
     ]
    }
   ],
   "source": [
    "# Compiling the model\n",
    "model.compile(optimizer='adam',loss=tf.losses.BinaryCrossentropy(from_logits=True),metrics=['accuracy'])\n",
    "# Training the model\n",
    "history = model.fit(train_batches,epochs = 15,validation_data = test_batches,validation_steps = 50)\n"
   ]
  },
  {
   "cell_type": "markdown",
   "metadata": {},
   "source": [
    "## Loss And Accuracy of the Model "
   ]
  },
  {
   "cell_type": "code",
   "execution_count": 29,
   "metadata": {},
   "outputs": [
    {
     "name": "stdout",
     "output_type": "stream",
     "text": [
      "658/658 [==============================] - 2s 3ms/step - loss: 0.3105 - accuracy: 0.8692\n",
      "Loss:  0.31045305728912354\n",
      "Accuracy:  0.8691999912261963\n"
     ]
    }
   ],
   "source": [
    "# Validation of Loss and Accuracy\n",
    "loss, accuracy = model.evaluate(test_batches)\n",
    "print(\"Loss: \", loss)\n",
    "print(\"Accuracy: \", accuracy)"
   ]
  },
  {
   "cell_type": "code",
   "execution_count": 30,
   "metadata": {},
   "outputs": [],
   "source": [
    "# Taking care of the mask\n",
    "def pad_to_size(vec, size):\n",
    "  zeros = [0] * (size - len(vec))\n",
    "  vec.extend(zeros)\n",
    "  return vec"
   ]
  },
  {
   "cell_type": "markdown",
   "metadata": {},
   "source": [
    "### Prediction Function "
   ]
  },
  {
   "cell_type": "code",
   "execution_count": 31,
   "metadata": {},
   "outputs": [],
   "source": [
    "def sample_predict(sample_pred_text, pad):\n",
    "  encoded_sample_pred_text = encoder.encode(sample_pred_text)\n",
    "\n",
    "  if pad:\n",
    "    encoded_sample_pred_text = pad_to_size(encoded_sample_pred_text, 64)\n",
    "  encoded_sample_pred_text = tf.cast(encoded_sample_pred_text, tf.float32)\n",
    "  predictions = model.predict(tf.expand_dims(encoded_sample_pred_text, 0))\n",
    "  print(\"Prediction Score: \", predictions)\n",
    "  output = \"\"\n",
    "  if predictions[0][0] >= 0.5: output = \"POSITIVE\"\n",
    "  elif predictions[0][0] <= -1: output = \"NEGATIVE\"\n",
    "  else: output = \"NEUTRAL\"\n",
    "\n",
    "  return output"
   ]
  },
  {
   "cell_type": "markdown",
   "metadata": {},
   "source": [
    "#### Predicting input1 "
   ]
  },
  {
   "cell_type": "code",
   "execution_count": 32,
   "metadata": {},
   "outputs": [
    {
     "name": "stdout",
     "output_type": "stream",
     "text": [
      "1/1 [==============================] - 0s 42ms/step\n",
      "Prediction Score:  [[122.74198]]\n",
      "POSITIVE\n"
     ]
    }
   ],
   "source": [
    "# Observing the output\n",
    "sample_pred_text = ('What an excellent performance')\n",
    "predictions = sample_predict(sample_pred_text, pad = False)\n",
    "print(predictions)"
   ]
  },
  {
   "cell_type": "markdown",
   "metadata": {},
   "source": [
    "#### Predicting input2 "
   ]
  },
  {
   "cell_type": "code",
   "execution_count": 34,
   "metadata": {},
   "outputs": [
    {
     "name": "stdout",
     "output_type": "stream",
     "text": [
      "1/1 [==============================] - 0s 39ms/step\n",
      "Prediction Score:  [[-234.94653]]\n",
      "NEGATIVE\n"
     ]
    }
   ],
   "source": [
    "sample_pred_text = ('The performance was worst just a waste of money ')\n",
    "predictions = sample_predict(sample_pred_text, pad = False)\n",
    "print(predictions)"
   ]
  },
  {
   "cell_type": "markdown",
   "metadata": {},
   "source": [
    "#### Predicting input3"
   ]
  },
  {
   "cell_type": "code",
   "execution_count": 35,
   "metadata": {},
   "outputs": [
    {
     "name": "stdout",
     "output_type": "stream",
     "text": [
      "1/1 [==============================] - 0s 39ms/step\n",
      "Prediction Score:  [[20.59399]]\n",
      "POSITIVE\n"
     ]
    }
   ],
   "source": [
    "sample_pred_text = ('Moderate it was ok ok tmr it might be good c u n8')\n",
    "predictions = sample_predict(sample_pred_text, pad = False)\n",
    "print(predictions)"
   ]
  },
  {
   "cell_type": "markdown",
   "metadata": {},
   "source": [
    "#### Predicting input4"
   ]
  },
  {
   "cell_type": "code",
   "execution_count": 37,
   "metadata": {},
   "outputs": [
    {
     "name": "stdout",
     "output_type": "stream",
     "text": [
      "1/1 [==============================] - 0s 23ms/step\n",
      "Prediction Score:  [[-8.908236]]\n",
      "NEGATIVE\n"
     ]
    }
   ],
   "source": [
    "sample_pred_text = (\"\"\"\" Season 4 - Stuck in a Rut Script\n",
    "westsideschl1 January 2021\n",
    "1. Overacted like reciting highly scripted very fake dialogue, \n",
    "and all in sequence as if after every short line the director pauses to allow the actors to memorize the next line.\n",
    "And, of course, practice a devilish smile. \n",
    "2. Over reliance on romance issues with the usual eye candy actors. \n",
    "Lucifer, of course, has short beard growth (very manly fake) as if the devil really needs that along with muscles (shown frequently).\n",
    "Why for someone with God like super powers. To showcase the body we have a very fake (and overused) holding up a car as it's wheels spin in trying to get away.\n",
    "3. The usual 10 seconds of staged dead body scene (very cheaply popular in crime series); the usual interdepartmental detective conflicts & issues. 4. Special effects consist mostly of two cheap (thankfully always brief) film items: Colored eyes (seen in all superpower movies), \n",
    "  and wings that are so cheap they would fall apart if moved. 5. Hell looked like a studio CGI quickie: A background of trees; above are clouds; \n",
    "  the throne is a jagged rock nestled amongst other fake jagged rocks. Huh! Not the Hell I know. \n",
    "Anyway, gotta have a King to sit there to stop (contain) the demons of Hell from coming to Earth. \n",
    "Please, send the demons, they would be a lot more interesting than this script.\"\"\"\"\")\n",
    "\n",
    "predictions = sample_predict(sample_pred_text, pad = False)\n",
    "print(predictions)"
   ]
  },
  {
   "cell_type": "markdown",
   "metadata": {},
   "source": [
    "#### Predicting input5"
   ]
  },
  {
   "cell_type": "code",
   "execution_count": 38,
   "metadata": {},
   "outputs": [
    {
     "name": "stdout",
     "output_type": "stream",
     "text": [
      "1/1 [==============================] - 0s 32ms/step\n",
      "Prediction Score:  [[-14.956689]]\n",
      "NEGATIVE\n"
     ]
    }
   ],
   "source": [
    "sample_pred_text = (\"\"\"\"\"Lucifer should have stayed dead.\n",
    "John6Daniels20 March 2021\n",
    "Its just a show the glorifies being a bad person.\n",
    "\n",
    "Lucifer is hash TV. It go can'd because it was hash then they resurrect her and its still hash.\n",
    "\n",
    "Overall good quality alone can't save this show.\n",
    "\n",
    "What can be learned? To glorify negativity.\n",
    "\n",
    "Verdict: I ain't no Christian but this show is Hell bound...Again... \"\"\"\"\")\n",
    "predictions = sample_predict(sample_pred_text, pad = False)\n",
    "print(predictions)"
   ]
  },
  {
   "cell_type": "markdown",
   "metadata": {},
   "source": [
    "#### Predicting input6"
   ]
  },
  {
   "cell_type": "code",
   "execution_count": 39,
   "metadata": {},
   "outputs": [
    {
     "name": "stdout",
     "output_type": "stream",
     "text": [
      "1/1 [==============================] - 0s 25ms/step\n",
      "Prediction Score:  [[14.712332]]\n",
      "POSITIVE\n",
      "1/1 [==============================] - 0s 14ms/step\n",
      "Prediction Score:  [[-0.97117984]]\n",
      "NEUTRAL\n"
     ]
    }
   ],
   "source": [
    "sample_pred_text = (\"\"\"Lucifer is a great show, a lot of it is the charming and amusing devil we all love to see. \n",
    "The strength of this show is the balance it strikes between the detective work and the biblical/divine elements. \n",
    "The greatest punch is delivered when one drives the other. \n",
    "Lucifer made a strong start and I think the first seasons were it's best. \n",
    "Low points include too much of the detective work and less biblical elements, it then resembles CSI more and more. \n",
    "You don't want another detective show. Less time should also be devoted to side characters like Maze. \n",
    "They are often used as space fillers for no good reason, characters should appear when needed. Overall not too bad. I hope there are more episodes.\"\"\")\n",
    "\n",
    "predictions = sample_predict(sample_pred_text, pad = False)\n",
    "print(predictions)\n",
    "\n",
    "sample_pred_text = (\"sorryyyyyy tmr onwards the show's gonna end\")\n",
    "\n",
    "predictions = sample_predict(sample_pred_text, pad = False)\n",
    "print(predictions)"
   ]
  },
  {
   "cell_type": "markdown",
   "metadata": {},
   "source": [
    "#### Predicting input7"
   ]
  },
  {
   "cell_type": "code",
   "execution_count": 40,
   "metadata": {},
   "outputs": [
    {
     "name": "stdout",
     "output_type": "stream",
     "text": [
      "1/1 [==============================] - 0s 22ms/step\n",
      "Prediction Score:  [[5.9540095]]\n",
      "POSITIVE\n"
     ]
    }
   ],
   "source": [
    "sample_pred_text = (\"\"\"\"\" A devil of a show - Ellis is excellent.\n",
    "khunkrumark10 February 2016\n",
    "Tom Ellis was brilliant as the love interest in Miranda - a screwball British comedy - so, check that out for more of him in a comedy role.\n",
    "\n",
    "He's been an extremely busy actor for the last 15 years but this is the first time he's been let loose on an American audience.\n",
    "\n",
    "There's nothing particularly original about the premise or the plots... man with a superpower makes everyone around him look like a bloody idiot - but the script and Ellis carry this off so well, that it doesn't matter.\n",
    "\n",
    "The only danger is will it run out of steam? Will the writers rely on Ellis to carry the show through their inactivity?\n",
    "\n",
    "For now though, this is the best comedy on TV.\n",
    "Rating : - 10/10\n",
    "\"\"\"\"\")\n",
    "\n",
    "predictions = sample_predict(sample_pred_text, pad = False)\n",
    "print(predictions)"
   ]
  },
  {
   "cell_type": "code",
   "execution_count": 41,
   "metadata": {},
   "outputs": [
    {
     "data": {
      "text/plain": [
       "dict_keys(['loss', 'accuracy', 'val_loss', 'val_accuracy'])"
      ]
     },
     "execution_count": 41,
     "metadata": {},
     "output_type": "execute_result"
    }
   ],
   "source": [
    "history_dict = history.history\n",
    "history_dict.keys()"
   ]
  },
  {
   "cell_type": "markdown",
   "metadata": {},
   "source": [
    "## Importing Libraries for plotting graph"
   ]
  },
  {
   "cell_type": "code",
   "execution_count": 42,
   "metadata": {},
   "outputs": [],
   "source": [
    "import matplotlib.pyplot as plt\n",
    "\n",
    "acc = history_dict['accuracy']\n",
    "val_acc = history_dict['val_accuracy']\n",
    "loss = history_dict['loss']\n",
    "val_loss = history_dict['val_loss']\n",
    "\n",
    "epochs = range(1, len(acc) + 1)"
   ]
  },
  {
   "cell_type": "markdown",
   "metadata": {},
   "source": [
    "## Graph for loss of the model "
   ]
  },
  {
   "cell_type": "code",
   "execution_count": 44,
   "metadata": {},
   "outputs": [
    {
     "data": {
      "image/png": "[encoded data removed]",
      "text/plain": [
       "<Figure size 432x288 with 1 Axes>"
      ]
     },
     "metadata": {
      "needs_background": "light"
     },
     "output_type": "display_data"
    }
   ],
   "source": [
    "# \"bo\" is for \"blue dot\"\n",
    "plt.plot(epochs, loss, 'bo', label='Training loss')\n",
    "# b is for \"solid red line\"\n",
    "plt.plot(epochs, val_loss, 'r', label='Validation loss')\n",
    "plt.title('Training and validation loss')\n",
    "plt.xlabel('era')\n",
    "plt.ylabel('Loss')\n",
    "plt.legend()\n",
    "\n",
    "plt.show()"
   ]
  },
  {
   "cell_type": "markdown",
   "metadata": {},
   "source": [
    "## Graph for accuracy of the model "
   ]
  },
  {
   "cell_type": "code",
   "execution_count": 45,
   "metadata": {},
   "outputs": [
    {
     "data": {
      "image/png": "[encoded data removed]",
      "text/plain": [
       "<Figure size 432x288 with 1 Axes>"
      ]
     },
     "metadata": {
      "needs_background": "light"
     },
     "output_type": "display_data"
    }
   ],
   "source": [
    "plt.clf()   # clear figure\n",
    "\n",
    "plt.plot(epochs, acc, 'bo', label='Training acc')\n",
    "plt.plot(epochs, val_acc, 'r', label='Validation acc')\n",
    "plt.title('Training and validation accuracy')\n",
    "plt.xlabel('Era')\n",
    "plt.ylabel('Accuracy')\n",
    "plt.legend(loc='lower right')\n",
    "\n",
    "plt.show()  "
   ]
  },
  {
   "cell_type": "code",
   "execution_count": null,
   "metadata": {},
   "outputs": [],
   "source": []
  }
 ],
 "metadata": {
  "colab": {
   "authorship_tag": "ABX9TyNciZqpCJXOjE2YJu4T2byZ",
   "include_colab_link": true,
   "name": "Main_code.ipynb",
   "provenance": []
  },
  "kernelspec": {
   "display_name": "Python 3 (ipykernel)",
   "language": "python",
   "name": "python3"
  },
  "language_info": {
   "codemirror_mode": {
    "name": "ipython",
    "version": 3
   },
   "file_extension": ".py",
   "mimetype": "text/x-python",
   "name": "python",
   "nbconvert_exporter": "python",
   "pygments_lexer": "ipython3",
   "version": "3.8.7"
  }
 },
 "nbformat": 4,
 "nbformat_minor": 4
}
